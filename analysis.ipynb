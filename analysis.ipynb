
{
 "cells": [
  {
   "cell_type": "markdown",
   "metadata": {},
   "source": [
    "# 🧪 Sales & Inventory Analysis\n",
    "Initial exploratory analysis on sales, product, customer, and inventory data."
   ]
  },
  {
   "cell_type": "code",
   "execution_count": null,
   "metadata": {},
   "outputs": [],
   "source": [
    "import pandas as pd\n",
    "import matplotlib.pyplot as plt\n",
    "import seaborn as sns\n",
    "\n",
    "# Load datasets\n",
    "sales = pd.read_csv('../data/sales.csv')\n",
    "products = pd.read_csv('../data/products.csv')\n",
    "customers = pd.read_csv('../data/customers.csv')\n",
    "inventory = pd.read_csv('../data/inventory.csv')"
   ]
  },
  {
   "cell_type": "code",
   "execution_count": null,
   "metadata": {},
   "outputs": [],
   "source": [
    "# Merge datasets for richer analysis\n",
    "merged = sales.merge(products, on='ProductID').merge(customers, on='CustomerID')\n",
    "merged['Date'] = pd.to_datetime(merged['Date'])"
   ]
  },
  {
   "cell_type": "code",
   "execution_count": null,
   "metadata": {},
   "outputs": [],
   "source": [
    "# Total sales per region\n",
    "region_sales = merged.groupby('Region')['Total'].sum().sort_values(ascending=False)\n",
    "region_sales.plot(kind='bar', title='Total Sales by Region', ylabel='Revenue ($)', xlabel='Region')\n",
    "plt.tight_layout()\n",
    "plt.show()"
   ]
  },
  {
   "cell_type": "code",
   "execution_count": null,
   "metadata": {},
   "outputs": [],
   "source": [
    "# Top 5 Products by Sales\n",
    "top_products = merged.groupby('ProductName')['Total'].sum().sort_values(ascending=False).head(5)\n",
    "top_products.plot(kind='bar', title='Top 5 Products by Revenue', color='green')\n",
    "plt.tight_layout()\n",
    "plt.show()"
   ]
  }
 ],
 "metadata": {
  "kernelspec": {
   "display_name": "Python 3",
   "language": "python",
   "name": "python3"
  },
  "language_info": {
   "name": "python",
   "version": "3.x"
  }
 },
 "nbformat": 4,
 "nbformat_minor": 2
}
